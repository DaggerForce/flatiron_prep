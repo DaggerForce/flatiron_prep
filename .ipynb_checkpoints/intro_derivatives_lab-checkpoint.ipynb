{
 "cells": [
  {
   "cell_type": "code",
   "execution_count": 247,
   "metadata": {},
   "outputs": [],
   "source": [
    "\n",
    "four_x_squared_plus_four_x_minus_ten = [(4, 2), (4, 1), (-10, 0)]\n",
    "four_x_cubed_plus_eleven_x_squared = [(4, 3), (11, 2)]\n",
    "three_x_squared_minus_eleven = [(3,2), (-11,0)]"
   ]
  },
  {
   "cell_type": "code",
   "execution_count": 249,
   "metadata": {},
   "outputs": [],
   "source": [
    "def output_at(list_of_terms, x_values):\n",
    "    results = []\n",
    "    x_list_map = list(range(len(x_values)))\n",
    "    term1 = list_of_terms[0]\n",
    "\n",
    "    for every_x in x_list_map:\n",
    "        results.append((term1[0])*(x_values[every_x]**term1[1])-11)\n",
    "\n",
    "    return results"
   ]
  },
  {
   "cell_type": "code",
   "execution_count": 273,
   "metadata": {},
   "outputs": [
    {
     "data": {
      "text/html": [
       "<script>requirejs.config({paths: { 'plotly': ['https://cdn.plot.ly/plotly-latest.min']},});if(!window.Plotly) {{require(['plotly'],function(plotly) {window.Plotly=plotly;});}}</script>"
      ],
      "text/vnd.plotly.v1+html": [
       "<script>requirejs.config({paths: { 'plotly': ['https://cdn.plot.ly/plotly-latest.min']},});if(!window.Plotly) {{require(['plotly'],function(plotly) {window.Plotly=plotly;});}}</script>"
      ]
     },
     "metadata": {},
     "output_type": "display_data"
    },
    {
     "data": {
      "application/vnd.plotly.v1+json": {
       "data": [
        {
         "type": "scatter",
         "uid": "240222ba-6d2a-11e9-8dd8-ddf4e2d7f47d",
         "x": [
          -30,
          -29,
          -28,
          -27,
          -26,
          -25,
          -24,
          -23,
          -22,
          -21,
          -20,
          -19,
          -18,
          -17,
          -16,
          -15,
          -14,
          -13,
          -12,
          -11,
          -10,
          -9,
          -8,
          -7,
          -6,
          -5,
          -4,
          -3,
          -2,
          -1,
          0,
          1,
          2,
          3,
          4,
          5,
          6,
          7,
          8,
          9,
          10,
          11,
          12,
          13,
          14,
          15,
          16,
          17,
          18,
          19,
          20,
          21,
          22,
          23,
          24,
          25,
          26,
          27,
          28,
          29
         ],
         "y": [
          2689,
          2512,
          2341,
          2176,
          2017,
          1864,
          1717,
          1576,
          1441,
          1312,
          1189,
          1072,
          961,
          856,
          757,
          664,
          577,
          496,
          421,
          352,
          289,
          232,
          181,
          136,
          97,
          64,
          37,
          16,
          1,
          -8,
          -11,
          -8,
          1,
          16,
          37,
          64,
          97,
          136,
          181,
          232,
          289,
          352,
          421,
          496,
          577,
          664,
          757,
          856,
          961,
          1072,
          1189,
          1312,
          1441,
          1576,
          1717,
          1864,
          2017,
          2176,
          2341,
          2512
         ]
        }
       ],
       "layout": {}
      },
      "text/html": [
       "<div id=\"73885655-069d-481b-aa88-ead833b08024\" style=\"height: 525px; width: 100%;\" class=\"plotly-graph-div\"></div><script type=\"text/javascript\">require([\"plotly\"], function(Plotly) { window.PLOTLYENV=window.PLOTLYENV || {};window.PLOTLYENV.BASE_URL=\"https://plot.ly\";Plotly.newPlot(\"73885655-069d-481b-aa88-ead833b08024\", [{\"x\": [-30, -29, -28, -27, -26, -25, -24, -23, -22, -21, -20, -19, -18, -17, -16, -15, -14, -13, -12, -11, -10, -9, -8, -7, -6, -5, -4, -3, -2, -1, 0, 1, 2, 3, 4, 5, 6, 7, 8, 9, 10, 11, 12, 13, 14, 15, 16, 17, 18, 19, 20, 21, 22, 23, 24, 25, 26, 27, 28, 29], \"y\": [2689, 2512, 2341, 2176, 2017, 1864, 1717, 1576, 1441, 1312, 1189, 1072, 961, 856, 757, 664, 577, 496, 421, 352, 289, 232, 181, 136, 97, 64, 37, 16, 1, -8, -11, -8, 1, 16, 37, 64, 97, 136, 181, 232, 289, 352, 421, 496, 577, 664, 757, 856, 961, 1072, 1189, 1312, 1441, 1576, 1717, 1864, 2017, 2176, 2341, 2512], \"type\": \"scatter\", \"uid\": \"2406705c-6d2a-11e9-9dd1-ddf4e2d7f47d\"}], {}, {\"showLink\": true, \"linkText\": \"Export to plot.ly\"})});</script>"
      ],
      "text/vnd.plotly.v1+html": [
       "<div id=\"73885655-069d-481b-aa88-ead833b08024\" style=\"height: 525px; width: 100%;\" class=\"plotly-graph-div\"></div><script type=\"text/javascript\">require([\"plotly\"], function(Plotly) { window.PLOTLYENV=window.PLOTLYENV || {};window.PLOTLYENV.BASE_URL=\"https://plot.ly\";Plotly.newPlot(\"73885655-069d-481b-aa88-ead833b08024\", [{\"x\": [-30, -29, -28, -27, -26, -25, -24, -23, -22, -21, -20, -19, -18, -17, -16, -15, -14, -13, -12, -11, -10, -9, -8, -7, -6, -5, -4, -3, -2, -1, 0, 1, 2, 3, 4, 5, 6, 7, 8, 9, 10, 11, 12, 13, 14, 15, 16, 17, 18, 19, 20, 21, 22, 23, 24, 25, 26, 27, 28, 29], \"y\": [2689, 2512, 2341, 2176, 2017, 1864, 1717, 1576, 1441, 1312, 1189, 1072, 961, 856, 757, 664, 577, 496, 421, 352, 289, 232, 181, 136, 97, 64, 37, 16, 1, -8, -11, -8, 1, 16, 37, 64, 97, 136, 181, 232, 289, 352, 421, 496, 577, 664, 757, 856, 961, 1072, 1189, 1312, 1441, 1576, 1717, 1864, 2017, 2176, 2341, 2512], \"type\": \"scatter\", \"uid\": \"2406705c-6d2a-11e9-9dd1-ddf4e2d7f47d\"}], {}, {\"showLink\": true, \"linkText\": \"Export to plot.ly\"})});</script>"
      ]
     },
     "metadata": {},
     "output_type": "display_data"
    }
   ],
   "source": [
    "import plotly\n",
    "import plotly.graph_objs as go\n",
    "from plotly.offline import iplot, init_notebook_mode\n",
    "init_notebook_mode(connected=True)\n",
    "\n",
    "\n",
    "\n",
    "def output_at(list_of_terms, x_values):\n",
    "    \n",
    "\n",
    "    if type(x_values) == int:\n",
    "        result = ((list_of_terms[0][0]) * (x_values**list_of_terms[0][1])-11)\n",
    "        return result\n",
    "        \n",
    "    else:\n",
    "        results = []\n",
    "        x_list_map = list(range(len(x_values)))\n",
    "        for every_x in x_list_map:\n",
    "            results.append(\n",
    "                (list_of_terms[0][0]) * (x_values[every_x]**list_of_terms[0][1])-11)\n",
    "\n",
    "        return results\n",
    "\n",
    "\n",
    "three_x_squared_minus_eleven = [(3, 2), (-11, 0)]\n",
    "x_values = list(range(-30, 30, 1))\n",
    "y_values = list(output_at(three_x_squared_minus_eleven, x_values))\n",
    "\n",
    "iplot([{\"x\": x_values, \"y\": y_values}])"
   ]
  },
  {
   "cell_type": "code",
   "execution_count": 287,
   "metadata": {},
   "outputs": [
    {
     "data": {
      "text/plain": [
       "4.0"
      ]
     },
     "execution_count": 287,
     "metadata": {},
     "output_type": "execute_result"
    }
   ],
   "source": [
    "def output_at(list_of_terms, x_values):\n",
    "    if type(x_values) == int:\n",
    "        result = ((list_of_terms[0][0]) * (x_values) + (list_of_terms[1][0]))\n",
    "        return result\n",
    "\n",
    "    else:\n",
    "        results = []\n",
    "        x_list_map = list(range(len(x_values)))\n",
    "        for every_x in x_list_map:\n",
    "            results.append(\n",
    "                (list_of_terms[0][0]) * (x_values[every_x]) + (list_of_terms[1][0]))\n",
    "\n",
    "        return results\n",
    "\n",
    "\n",
    "def deriative_at(list_of_terms, x_value, delta_x):\n",
    "    f_x = output_at(list_of_terms, x_value)\n",
    "    f_x_plus_delta_x = output_at(list_of_terms, (x_value + delta_x))\n",
    "    deriative = ((f_x_plus_delta_x) - (f_x))/delta_x\n",
    "    return round(deriative)\n",
    "\n",
    "\n",
    "four_x_plus_fifteen = [(4, 1), (15, 0)]\n",
    "deriative_at(four_x_plus_fifteen, 2, 1)"
   ]
  },
  {
   "cell_type": "code",
   "execution_count": 290,
   "metadata": {},
   "outputs": [
    {
     "ename": "NameError",
     "evalue": "name 'derivative_of' is not defined",
     "output_type": "error",
     "traceback": [
      "\u001b[1;31m---------------------------------------------------------------------------\u001b[0m",
      "\u001b[1;31mNameError\u001b[0m                                 Traceback (most recent call last)",
      "\u001b[1;32m<ipython-input-290-e9ce5035849b>\u001b[0m in \u001b[0;36m<module>\u001b[1;34m\u001b[0m\n\u001b[0;32m     20\u001b[0m \u001b[1;31m# derivative_traces(list_of_terms, x_value, line_length = 4, delta_x = .01)\u001b[0m\u001b[1;33m\u001b[0m\u001b[1;33m\u001b[0m\u001b[1;33m\u001b[0m\u001b[0m\n\u001b[0;32m     21\u001b[0m \u001b[1;33m\u001b[0m\u001b[0m\n\u001b[1;32m---> 22\u001b[1;33m \u001b[0mthree_x_plus_tangents\u001b[0m \u001b[1;33m=\u001b[0m \u001b[0mdelta_traces\u001b[0m\u001b[1;33m(\u001b[0m\u001b[0mfour_x_plus_fifteen\u001b[0m\u001b[1;33m,\u001b[0m \u001b[1;36m2\u001b[0m\u001b[1;33m,\u001b[0m \u001b[0mline_length\u001b[0m\u001b[1;33m=\u001b[0m \u001b[1;36m2\u001b[0m\u001b[1;33m*\u001b[0m\u001b[1;36m1\u001b[0m\u001b[1;33m,\u001b[0m \u001b[0mdelta_x\u001b[0m \u001b[1;33m=\u001b[0m \u001b[0mdelta_x\u001b[0m\u001b[1;33m)\u001b[0m\u001b[1;33m\u001b[0m\u001b[1;33m\u001b[0m\u001b[0m\n\u001b[0m\u001b[0;32m     23\u001b[0m \u001b[1;33m\u001b[0m\u001b[0m\n\u001b[0;32m     24\u001b[0m \u001b[1;31m# only plot the list of traces, if three_x_plus_tangents, does not look like [None, None, None]\u001b[0m\u001b[1;33m\u001b[0m\u001b[1;33m\u001b[0m\u001b[1;33m\u001b[0m\u001b[0m\n",
      "\u001b[1;32m<ipython-input-290-e9ce5035849b>\u001b[0m in \u001b[0;36mdelta_traces\u001b[1;34m(list_of_terms, x_value, line_length, delta_x)\u001b[0m\n\u001b[0;32m     11\u001b[0m \u001b[1;33m\u001b[0m\u001b[0m\n\u001b[0;32m     12\u001b[0m \u001b[1;32mdef\u001b[0m \u001b[0mdelta_traces\u001b[0m\u001b[1;33m(\u001b[0m\u001b[0mlist_of_terms\u001b[0m\u001b[1;33m,\u001b[0m \u001b[0mx_value\u001b[0m\u001b[1;33m,\u001b[0m \u001b[0mline_length\u001b[0m \u001b[1;33m=\u001b[0m \u001b[1;36m4\u001b[0m\u001b[1;33m,\u001b[0m \u001b[0mdelta_x\u001b[0m \u001b[1;33m=\u001b[0m \u001b[1;36m.01\u001b[0m\u001b[1;33m)\u001b[0m\u001b[1;33m:\u001b[0m\u001b[1;33m\u001b[0m\u001b[1;33m\u001b[0m\u001b[0m\n\u001b[1;32m---> 13\u001b[1;33m     \u001b[0mtangent\u001b[0m \u001b[1;33m=\u001b[0m \u001b[0mderivative_trace\u001b[0m\u001b[1;33m(\u001b[0m\u001b[0mlist_of_terms\u001b[0m\u001b[1;33m,\u001b[0m \u001b[0mx_value\u001b[0m\u001b[1;33m,\u001b[0m \u001b[0mline_length\u001b[0m\u001b[1;33m,\u001b[0m \u001b[0mdelta_x\u001b[0m\u001b[1;33m)\u001b[0m\u001b[1;33m\u001b[0m\u001b[1;33m\u001b[0m\u001b[0m\n\u001b[0m\u001b[0;32m     14\u001b[0m     \u001b[0mdelta_f_line\u001b[0m \u001b[1;33m=\u001b[0m \u001b[0mdelta_f_trace\u001b[0m\u001b[1;33m(\u001b[0m\u001b[0mlist_of_terms\u001b[0m\u001b[1;33m,\u001b[0m \u001b[0mx_value\u001b[0m\u001b[1;33m,\u001b[0m \u001b[0mdelta_x\u001b[0m\u001b[1;33m)\u001b[0m\u001b[1;33m\u001b[0m\u001b[1;33m\u001b[0m\u001b[0m\n\u001b[0;32m     15\u001b[0m     \u001b[0mdelta_x_line\u001b[0m \u001b[1;33m=\u001b[0m \u001b[0mdelta_x_trace\u001b[0m\u001b[1;33m(\u001b[0m\u001b[0mlist_of_terms\u001b[0m\u001b[1;33m,\u001b[0m \u001b[0mx_value\u001b[0m\u001b[1;33m,\u001b[0m \u001b[0mdelta_x\u001b[0m\u001b[1;33m)\u001b[0m\u001b[1;33m\u001b[0m\u001b[1;33m\u001b[0m\u001b[0m\n",
      "\u001b[1;32m<ipython-input-290-e9ce5035849b>\u001b[0m in \u001b[0;36mderivative_trace\u001b[1;34m(list_of_terms, x_value, line_length, delta_x)\u001b[0m\n\u001b[0;32m      1\u001b[0m \u001b[1;32mdef\u001b[0m \u001b[0mderivative_trace\u001b[0m\u001b[1;33m(\u001b[0m\u001b[0mlist_of_terms\u001b[0m\u001b[1;33m,\u001b[0m \u001b[0mx_value\u001b[0m\u001b[1;33m,\u001b[0m \u001b[0mline_length\u001b[0m \u001b[1;33m=\u001b[0m \u001b[1;36m4\u001b[0m\u001b[1;33m,\u001b[0m \u001b[0mdelta_x\u001b[0m \u001b[1;33m=\u001b[0m \u001b[1;36m.01\u001b[0m\u001b[1;33m)\u001b[0m\u001b[1;33m:\u001b[0m\u001b[1;33m\u001b[0m\u001b[1;33m\u001b[0m\u001b[0m\n\u001b[1;32m----> 2\u001b[1;33m     \u001b[0mderivative_at\u001b[0m \u001b[1;33m=\u001b[0m \u001b[0mderivative_of\u001b[0m\u001b[1;33m(\u001b[0m\u001b[0mlist_of_terms\u001b[0m\u001b[1;33m,\u001b[0m \u001b[0mx_value\u001b[0m\u001b[1;33m,\u001b[0m \u001b[0mdelta_x\u001b[0m\u001b[1;33m)\u001b[0m\u001b[1;33m\u001b[0m\u001b[1;33m\u001b[0m\u001b[0m\n\u001b[0m\u001b[0;32m      3\u001b[0m     \u001b[0my\u001b[0m \u001b[1;33m=\u001b[0m \u001b[0moutput_at\u001b[0m\u001b[1;33m(\u001b[0m\u001b[0mlist_of_terms\u001b[0m\u001b[1;33m,\u001b[0m \u001b[0mx_value\u001b[0m\u001b[1;33m)\u001b[0m\u001b[1;33m\u001b[0m\u001b[1;33m\u001b[0m\u001b[0m\n\u001b[0;32m      4\u001b[0m     \u001b[1;32mif\u001b[0m \u001b[0mderivative_at\u001b[0m \u001b[1;32mand\u001b[0m \u001b[0my\u001b[0m\u001b[1;33m:\u001b[0m\u001b[1;33m\u001b[0m\u001b[1;33m\u001b[0m\u001b[0m\n\u001b[0;32m      5\u001b[0m         \u001b[0mx_minus\u001b[0m \u001b[1;33m=\u001b[0m \u001b[0mx_value\u001b[0m \u001b[1;33m-\u001b[0m \u001b[0mline_length\u001b[0m\u001b[1;33m/\u001b[0m\u001b[1;36m2\u001b[0m\u001b[1;33m\u001b[0m\u001b[1;33m\u001b[0m\u001b[0m\n",
      "\u001b[1;31mNameError\u001b[0m: name 'derivative_of' is not defined"
     ]
    }
   ],
   "source": [
    "def derivative_trace(list_of_terms, x_value, line_length = 4, delta_x = .01):\n",
    "    derivative_at = derivative_of(list_of_terms, x_value, delta_x)\n",
    "    y = output_at(list_of_terms, x_value)\n",
    "    if derivative_at and y:\n",
    "        x_minus = x_value - line_length/2\n",
    "        x_plus = x_value + line_length/2\n",
    "        y_minus = y - derivative_at * line_length/2\n",
    "        y_plus = y + derivative_at * line_length/2\n",
    "        return trace_values([x_minus, x_value, x_plus],[y_minus, y, y_plus], name = \"f' (x) = \" + str(derivative_at), mode = 'line')\n",
    "\n",
    "    \n",
    "def delta_traces(list_of_terms, x_value, line_length = 4, delta_x = .01):\n",
    "    tangent = derivative_trace(list_of_terms, x_value, line_length, delta_x)\n",
    "    delta_f_line = delta_f_trace(list_of_terms, x_value, delta_x)\n",
    "    delta_x_line = delta_x_trace(list_of_terms, x_value, delta_x)\n",
    "    return [tangent, delta_f_line, delta_x_line]\n",
    "\n"
   ]
  },
  {
   "cell_type": "code",
   "execution_count": null,
   "metadata": {},
   "outputs": [],
   "source": []
  }
 ],
 "metadata": {
  "kernelspec": {
   "display_name": "Python 3",
   "language": "python",
   "name": "python3"
  },
  "language_info": {
   "codemirror_mode": {
    "name": "ipython",
    "version": 3
   },
   "file_extension": ".py",
   "mimetype": "text/x-python",
   "name": "python",
   "nbconvert_exporter": "python",
   "pygments_lexer": "ipython3",
   "version": "3.7.1"
  }
 },
 "nbformat": 4,
 "nbformat_minor": 2
}
