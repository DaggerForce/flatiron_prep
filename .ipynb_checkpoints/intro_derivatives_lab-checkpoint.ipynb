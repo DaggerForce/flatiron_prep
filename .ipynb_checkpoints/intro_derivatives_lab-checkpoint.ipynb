{
 "cells": [
  {
   "cell_type": "code",
   "execution_count": 238,
   "metadata": {},
   "outputs": [],
   "source": [
    "\n",
    "four_x_squared_plus_four_x_minus_ten = [(4, 2), (4, 1), (-10, 0)]\n",
    "four_x_cubed_plus_eleven_x_squared = [(4, 3), (11, 2)]\n",
    "three_x_squared_minus_eleven = [(3,2), (-11,0)]"
   ]
  },
  {
   "cell_type": "code",
   "execution_count": 239,
   "metadata": {},
   "outputs": [],
   "source": [
    "def output_at(list_of_terms, x_values):\n",
    "    results = []\n",
    "    x_list_map = list(range(len(x_values)))\n",
    "    term1 = list_of_terms[0]\n",
    "\n",
    "    for every_x in x_list_map:\n",
    "        results.append((term1[0])*(x_values[every_x]**term1[1])-11)\n",
    "\n",
    "    return results"
   ]
  },
  {
   "cell_type": "code",
   "execution_count": 240,
   "metadata": {},
   "outputs": [
    {
     "data": {
      "text/html": [
       "<script>requirejs.config({paths: { 'plotly': ['https://cdn.plot.ly/plotly-latest.min']},});if(!window.Plotly) {{require(['plotly'],function(plotly) {window.Plotly=plotly;});}}</script>"
      ],
      "text/vnd.plotly.v1+html": [
       "<script>requirejs.config({paths: { 'plotly': ['https://cdn.plot.ly/plotly-latest.min']},});if(!window.Plotly) {{require(['plotly'],function(plotly) {window.Plotly=plotly;});}}</script>"
      ]
     },
     "metadata": {},
     "output_type": "display_data"
    },
    {
     "data": {
      "application/vnd.plotly.v1+json": {
       "data": [
        {
         "type": "scatter",
         "uid": "72fab392-6d26-11e9-9440-ddf4e2d7f47d",
         "x": [
          -30,
          -29,
          -28,
          -27,
          -26,
          -25,
          -24,
          -23,
          -22,
          -21,
          -20,
          -19,
          -18,
          -17,
          -16,
          -15,
          -14,
          -13,
          -12,
          -11,
          -10,
          -9,
          -8,
          -7,
          -6,
          -5,
          -4,
          -3,
          -2,
          -1,
          0,
          1,
          2,
          3,
          4,
          5,
          6,
          7,
          8,
          9,
          10,
          11,
          12,
          13,
          14,
          15,
          16,
          17,
          18,
          19,
          20,
          21,
          22,
          23,
          24,
          25,
          26,
          27,
          28,
          29
         ],
         "y": [
          2689,
          2512,
          2341,
          2176,
          2017,
          1864,
          1717,
          1576,
          1441,
          1312,
          1189,
          1072,
          961,
          856,
          757,
          664,
          577,
          496,
          421,
          352,
          289,
          232,
          181,
          136,
          97,
          64,
          37,
          16,
          1,
          -8,
          -11,
          -8,
          1,
          16,
          37,
          64,
          97,
          136,
          181,
          232,
          289,
          352,
          421,
          496,
          577,
          664,
          757,
          856,
          961,
          1072,
          1189,
          1312,
          1441,
          1576,
          1717,
          1864,
          2017,
          2176,
          2341,
          2512
         ]
        }
       ],
       "layout": {}
      },
      "text/html": [
       "<div id=\"9b7f3744-d739-470d-8a96-81bac3eea8dd\" style=\"height: 525px; width: 100%;\" class=\"plotly-graph-div\"></div><script type=\"text/javascript\">require([\"plotly\"], function(Plotly) { window.PLOTLYENV=window.PLOTLYENV || {};window.PLOTLYENV.BASE_URL=\"https://plot.ly\";Plotly.newPlot(\"9b7f3744-d739-470d-8a96-81bac3eea8dd\", [{\"x\": [-30, -29, -28, -27, -26, -25, -24, -23, -22, -21, -20, -19, -18, -17, -16, -15, -14, -13, -12, -11, -10, -9, -8, -7, -6, -5, -4, -3, -2, -1, 0, 1, 2, 3, 4, 5, 6, 7, 8, 9, 10, 11, 12, 13, 14, 15, 16, 17, 18, 19, 20, 21, 22, 23, 24, 25, 26, 27, 28, 29], \"y\": [2689, 2512, 2341, 2176, 2017, 1864, 1717, 1576, 1441, 1312, 1189, 1072, 961, 856, 757, 664, 577, 496, 421, 352, 289, 232, 181, 136, 97, 64, 37, 16, 1, -8, -11, -8, 1, 16, 37, 64, 97, 136, 181, 232, 289, 352, 421, 496, 577, 664, 757, 856, 961, 1072, 1189, 1312, 1441, 1576, 1717, 1864, 2017, 2176, 2341, 2512], \"type\": \"scatter\", \"uid\": \"73035e4c-6d26-11e9-9f89-ddf4e2d7f47d\"}], {}, {\"showLink\": true, \"linkText\": \"Export to plot.ly\"})});</script>"
      ],
      "text/vnd.plotly.v1+html": [
       "<div id=\"9b7f3744-d739-470d-8a96-81bac3eea8dd\" style=\"height: 525px; width: 100%;\" class=\"plotly-graph-div\"></div><script type=\"text/javascript\">require([\"plotly\"], function(Plotly) { window.PLOTLYENV=window.PLOTLYENV || {};window.PLOTLYENV.BASE_URL=\"https://plot.ly\";Plotly.newPlot(\"9b7f3744-d739-470d-8a96-81bac3eea8dd\", [{\"x\": [-30, -29, -28, -27, -26, -25, -24, -23, -22, -21, -20, -19, -18, -17, -16, -15, -14, -13, -12, -11, -10, -9, -8, -7, -6, -5, -4, -3, -2, -1, 0, 1, 2, 3, 4, 5, 6, 7, 8, 9, 10, 11, 12, 13, 14, 15, 16, 17, 18, 19, 20, 21, 22, 23, 24, 25, 26, 27, 28, 29], \"y\": [2689, 2512, 2341, 2176, 2017, 1864, 1717, 1576, 1441, 1312, 1189, 1072, 961, 856, 757, 664, 577, 496, 421, 352, 289, 232, 181, 136, 97, 64, 37, 16, 1, -8, -11, -8, 1, 16, 37, 64, 97, 136, 181, 232, 289, 352, 421, 496, 577, 664, 757, 856, 961, 1072, 1189, 1312, 1441, 1576, 1717, 1864, 2017, 2176, 2341, 2512], \"type\": \"scatter\", \"uid\": \"73035e4c-6d26-11e9-9f89-ddf4e2d7f47d\"}], {}, {\"showLink\": true, \"linkText\": \"Export to plot.ly\"})});</script>"
      ]
     },
     "metadata": {},
     "output_type": "display_data"
    }
   ],
   "source": [
    "import plotly\n",
    "import plotly.graph_objs as go\n",
    "from plotly.offline import iplot, init_notebook_mode\n",
    "init_notebook_mode(connected=True)\n",
    "\n",
    "\n",
    "\n",
    "def output_at(list_of_terms, x_values):\n",
    "    results = []\n",
    "    x_list_map = list(range(len(x_values)))\n",
    "\n",
    "    for every_x in x_list_map:\n",
    "        results.append((list_of_terms[0][0])*(x_values[every_x]**list_of_terms[0][1])-11)\n",
    "\n",
    "    return results\n",
    "\n",
    "\n",
    "three_x_squared_minus_eleven = [(3, 2), (-11, 0)]\n",
    "x_values = list(range(-30, 30, 1))\n",
    "y_values = list(output_at(three_x_squared_minus_eleven, x_values))\n",
    "\n",
    "iplot([{\"x\": x_values, \"y\": y_values}])"
   ]
  },
  {
   "cell_type": "code",
   "execution_count": 216,
   "metadata": {},
   "outputs": [
    {
     "ename": "SyntaxError",
     "evalue": "invalid syntax (<ipython-input-216-a375405b6498>, line 1)",
     "output_type": "error",
     "traceback": [
      "\u001b[1;36m  File \u001b[1;32m\"<ipython-input-216-a375405b6498>\"\u001b[1;36m, line \u001b[1;32m1\u001b[0m\n\u001b[1;33m    $ source ~/.virtualenvs/plotly3.3/bin/activate\u001b[0m\n\u001b[1;37m    ^\u001b[0m\n\u001b[1;31mSyntaxError\u001b[0m\u001b[1;31m:\u001b[0m invalid syntax\n"
     ]
    }
   ],
   "source": []
  },
  {
   "cell_type": "code",
   "execution_count": null,
   "metadata": {},
   "outputs": [],
   "source": []
  }
 ],
 "metadata": {
  "kernelspec": {
   "display_name": "Python 3",
   "language": "python",
   "name": "python3"
  },
  "language_info": {
   "codemirror_mode": {
    "name": "ipython",
    "version": 3
   },
   "file_extension": ".py",
   "mimetype": "text/x-python",
   "name": "python",
   "nbconvert_exporter": "python",
   "pygments_lexer": "ipython3",
   "version": "3.7.1"
  }
 },
 "nbformat": 4,
 "nbformat_minor": 2
}
