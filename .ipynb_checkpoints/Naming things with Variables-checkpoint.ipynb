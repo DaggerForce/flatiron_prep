{
 "cells": [
  {
   "cell_type": "code",
   "execution_count": 13,
   "metadata": {},
   "outputs": [],
   "source": [
    "## Business card excerice\n",
    "name = \"art vandelay\" #capital the name correctly\n",
    "position = \"ceo\" #capital all letters \n",
    "work = \"vandaley industries\" #capital the name correctly\n",
    "phone = \"7285553334\" #2 other phone number ending with 5 and 6\n",
    "email = \"art.vandelay@vandelay.co\" #check if ends with .com\n",
    "site = \"vandelay.com\" #check if begins with www.\n",
    "address= None"
   ]
  },
  {
   "cell_type": "code",
   "execution_count": 14,
   "metadata": {},
   "outputs": [
    {
     "ename": "NameError",
     "evalue": "name 'list_phone' is not defined",
     "output_type": "error",
     "traceback": [
      "\u001b[1;31m---------------------------------------------------------------------------\u001b[0m",
      "\u001b[1;31mNameError\u001b[0m                                 Traceback (most recent call last)",
      "\u001b[1;32m<ipython-input-14-0a1891cafd25>\u001b[0m in \u001b[0;36m<module>\u001b[1;34m\u001b[0m\n\u001b[0;32m     14\u001b[0m \u001b[1;33m\u001b[0m\u001b[0m\n\u001b[0;32m     15\u001b[0m \u001b[0mlist_phone3\u001b[0m \u001b[1;33m=\u001b[0m \u001b[0mlist\u001b[0m\u001b[1;33m(\u001b[0m\u001b[0mphone\u001b[0m\u001b[1;33m)\u001b[0m \u001b[1;31m## there has to be a better way to do this..\u001b[0m\u001b[1;33m\u001b[0m\u001b[1;33m\u001b[0m\u001b[0m\n\u001b[1;32m---> 16\u001b[1;33m \u001b[0mlist_phone\u001b[0m\u001b[1;33m[\u001b[0m\u001b[1;33m-\u001b[0m\u001b[1;36m1\u001b[0m\u001b[1;33m]\u001b[0m \u001b[1;33m=\u001b[0m \u001b[1;34m\"6\"\u001b[0m\u001b[1;33m\u001b[0m\u001b[1;33m\u001b[0m\u001b[0m\n\u001b[0m",
      "\u001b[1;31mNameError\u001b[0m: name 'list_phone' is not defined"
     ]
    }
   ],
   "source": [
    "name_trial = name.upper() #test\n",
    "name_capital = name.title() #capitalzing first letter of each word\n",
    "position_capital = position.upper() #capital the entire word\n",
    "work_capital = work.title() #capitalzing first letter of each word\n",
    "\n",
    "correct_email = email.endswith(\".com\") #checking if the email is correct\n",
    "correct_site = \"www.\" + site #correcting the website address\n",
    "\n",
    "#converting the phone number into strings and add the 2 additional phone numbers\n",
    "phone1 = int(phone) #1st number\n",
    "\n",
    "list_phone2 = list(phone) ## there has to be a better way to do this..\n",
    "list_phone2[-1] = \"5\"\n",
    "\n",
    "list_phone3 = list(phone) ## there has to be a better way to do this..\n",
    "list_phone3[-1] = \"6\""
   ]
  },
  {
   "cell_type": "code",
   "execution_count": null,
   "metadata": {},
   "outputs": [],
   "source": []
  }
 ],
 "metadata": {
  "kernelspec": {
   "display_name": "Python 3",
   "language": "python",
   "name": "python3"
  },
  "language_info": {
   "codemirror_mode": {
    "name": "ipython",
    "version": 3
   },
   "file_extension": ".py",
   "mimetype": "text/x-python",
   "name": "python",
   "nbconvert_exporter": "python",
   "pygments_lexer": "ipython3",
   "version": "3.7.1"
  }
 },
 "nbformat": 4,
 "nbformat_minor": 2
}
