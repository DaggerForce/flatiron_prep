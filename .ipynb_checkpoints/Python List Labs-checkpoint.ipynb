{
 "cells": [
  {
   "cell_type": "code",
   "execution_count": 33,
   "metadata": {},
   "outputs": [],
   "source": [
    "top_travel_cities = ['Solta', 'Greenville', 'Buenos Aires', 'Los Cabos', 'Walla Walla Valley', 'Marakesh', 'Albuquerque', 'Archipelago Sea', 'Iguazu Falls', 'Salina Island', 'Toronto', 'Pyeongchang']"
   ]
  },
  {
   "cell_type": "code",
   "execution_count": 34,
   "metadata": {},
   "outputs": [],
   "source": [
    "countries = ['Croatia',\n",
    " 'USA',\n",
    " 'Argentina',\n",
    " 'Mexico',\n",
    " 'USA',\n",
    " 'Morocco',\n",
    " 'New Mexico',\n",
    " 'Finland',\n",
    " 'Argentina',\n",
    " 'Italy',\n",
    " 'Canada',\n",
    " 'South Korea']"
   ]
  },
  {
   "cell_type": "code",
   "execution_count": 35,
   "metadata": {},
   "outputs": [],
   "source": [
    "# creating a varaible for italy, mexico and grouping together the 2-4 sells\n",
    "italy = countries[-3]\n",
    "mexico = countries[2]\n",
    "kindof_neighbors = countries[1:5]"
   ]
  },
  {
   "cell_type": "code",
   "execution_count": 36,
   "metadata": {},
   "outputs": [],
   "source": [
    "# adding new countries to the list\n",
    "countries.append('Malta') \n",
    "countries.append('Thailand')"
   ]
  },
  {
   "cell_type": "code",
   "execution_count": 37,
   "metadata": {},
   "outputs": [],
   "source": [
    "countries[5] = 'USA'"
   ]
  },
  {
   "cell_type": "code",
   "execution_count": 49,
   "metadata": {},
   "outputs": [
    {
     "name": "stdout",
     "output_type": "stream",
     "text": [
      "10\n",
      "['Croatia', 'USA', 'Argentina', 'Mexico', 'USA', 'USA', 'New Mexico', 'Finland', 'Argentina', 'Italy']\n"
     ]
    }
   ],
   "source": [
    "countries.pop()\n",
    "print(len(countries)) # make sure changes were made\n",
    "print(countries) # make sure changes were made"
   ]
  },
  {
   "cell_type": "code",
   "execution_count": 55,
   "metadata": {},
   "outputs": [
    {
     "name": "stdout",
     "output_type": "stream",
     "text": [
      "len(unique_countries) + type(unique_countries)\n"
     ]
    }
   ],
   "source": [
    "# create a list with only the unique countries\n",
    "unique_countries = list(set(countries))\n",
    "print(len(unique_countries)) # make sure changes were made\n",
    "\n"
   ]
  },
  {
   "cell_type": "code",
   "execution_count": null,
   "metadata": {},
   "outputs": [],
   "source": []
  }
 ],
 "metadata": {
  "kernelspec": {
   "display_name": "Python 3",
   "language": "python",
   "name": "python3"
  },
  "language_info": {
   "codemirror_mode": {
    "name": "ipython",
    "version": 3
   },
   "file_extension": ".py",
   "mimetype": "text/x-python",
   "name": "python",
   "nbconvert_exporter": "python",
   "pygments_lexer": "ipython3",
   "version": "3.7.1"
  }
 },
 "nbformat": 4,
 "nbformat_minor": 2
}
