{
 "cells": [
  {
   "cell_type": "code",
   "execution_count": 1,
   "metadata": {},
   "outputs": [],
   "source": [
    "#f(x,y)=3xy"
   ]
  },
  {
   "cell_type": "code",
   "execution_count": 2,
   "metadata": {},
   "outputs": [],
   "source": [
    "#Write out Python functions that return the values  f(x,y)  for  f(x,1),  f(x,3),  \n",
    "#f(x,6), and  f(x,9) for the function  f(x,y)=3xyf\n",
    "\n",
    "def three_x_y_at_one(x):\n",
    "    f_xy = (3,x,1)\n",
    "    output = f_xy[0]*f_xy[1]*f_xy[2]\n",
    "    return output\n",
    "\n",
    "def three_x_y_at_three(x):\n",
    "    f_xy = (3,x,3)\n",
    "    output = f_xy[0]*f_xy[1]*f_xy[2]\n",
    "    return output\n",
    "\n",
    "def three_x_y_at_six(x):\n",
    "    f_xy = (3,x,6)\n",
    "    output = f_xy[0]*f_xy[1]*f_xy[2]\n",
    "    return output\n",
    "\n",
    "def three_x_y_at_nine(x):\n",
    "    f_xy = (3,x,9)\n",
    "    output = f_xy[0]*f_xy[1]*f_xy[2]\n",
    "    return output"
   ]
  },
  {
   "cell_type": "code",
   "execution_count": 14,
   "metadata": {},
   "outputs": [],
   "source": [
    "#Now that we have our functions written, \n",
    "#we can write functions that provided an argument of x_values, \n",
    "#return the associated y_values that our four functions return.\n",
    "zero_to_ten = list(range(0, 11))\n",
    "zero_to_four = list(range(0, 5))\n",
    "\n",
    "def y_values_for_at_one(x_values):\n",
    "    y_values = list(map(three_x_y_at_one, x_values))\n",
    "    return y_values\n",
    "\n",
    "def y_values_for_at_three(x_values):\n",
    "    y_values = list(map(three_x_y_at_three, x_values))\n",
    "    return y_values\n",
    "\n",
    "def y_values_for_at_six(x_values):\n",
    "    y_values = list(map(three_x_y_at_six, x_values))\n",
    "    return y_values\n",
    "\n",
    "def y_values_for_at_nine(x_values):\n",
    "    y_values = list(map(three_x_y_at_nine, x_values))\n",
    "    return y_values"
   ]
  },
  {
   "cell_type": "code",
   "execution_count": 25,
   "metadata": {},
   "outputs": [
    {
     "data": {
      "text/html": [
       "<script>requirejs.config({paths: { 'plotly': ['https://cdn.plot.ly/plotly-latest.min']},});if(!window.Plotly) {{require(['plotly'],function(plotly) {window.Plotly=plotly;});}}</script>"
      ],
      "text/vnd.plotly.v1+html": [
       "<script>requirejs.config({paths: { 'plotly': ['https://cdn.plot.ly/plotly-latest.min']},});if(!window.Plotly) {{require(['plotly'],function(plotly) {window.Plotly=plotly;});}}</script>"
      ]
     },
     "metadata": {},
     "output_type": "display_data"
    },
    {
     "ename": "ModuleNotFoundError",
     "evalue": "No module named 'graph'",
     "output_type": "error",
     "traceback": [
      "\u001b[1;31m---------------------------------------------------------------------------\u001b[0m",
      "\u001b[1;31mModuleNotFoundError\u001b[0m                       Traceback (most recent call last)",
      "\u001b[1;32m<ipython-input-25-9b4a110c7a86>\u001b[0m in \u001b[0;36m<module>\u001b[1;34m\u001b[0m\n\u001b[0;32m      5\u001b[0m \u001b[0minit_notebook_mode\u001b[0m\u001b[1;33m(\u001b[0m\u001b[0mconnected\u001b[0m\u001b[1;33m=\u001b[0m\u001b[1;32mTrue\u001b[0m\u001b[1;33m)\u001b[0m\u001b[1;33m\u001b[0m\u001b[1;33m\u001b[0m\u001b[0m\n\u001b[0;32m      6\u001b[0m \u001b[1;33m\u001b[0m\u001b[0m\n\u001b[1;32m----> 7\u001b[1;33m \u001b[1;32mfrom\u001b[0m \u001b[0mgraph\u001b[0m \u001b[1;32mimport\u001b[0m \u001b[0mtrace_values\u001b[0m\u001b[1;33m\u001b[0m\u001b[1;33m\u001b[0m\u001b[0m\n\u001b[0m\u001b[0;32m      8\u001b[0m \u001b[1;33m\u001b[0m\u001b[0m\n\u001b[0;32m      9\u001b[0m \u001b[0my_at_one_trace\u001b[0m \u001b[1;33m=\u001b[0m \u001b[0mtrace_values\u001b[0m\u001b[1;33m(\u001b[0m\u001b[0mzero_to_ten\u001b[0m\u001b[1;33m,\u001b[0m \u001b[0my_values_for_at_one\u001b[0m\u001b[1;33m(\u001b[0m\u001b[0mzero_to_ten\u001b[0m\u001b[1;33m)\u001b[0m\u001b[1;33m,\u001b[0m \u001b[0mmode\u001b[0m \u001b[1;33m=\u001b[0m \u001b[1;34m'line'\u001b[0m\u001b[1;33m,\u001b[0m \u001b[0mname\u001b[0m \u001b[1;33m=\u001b[0m \u001b[1;34m'f(x, y) at y=1'\u001b[0m\u001b[1;33m)\u001b[0m \u001b[1;32mor\u001b[0m \u001b[1;33m{\u001b[0m\u001b[1;33m}\u001b[0m\u001b[1;33m\u001b[0m\u001b[1;33m\u001b[0m\u001b[0m\n",
      "\u001b[1;31mModuleNotFoundError\u001b[0m: No module named 'graph'"
     ]
    }
   ],
   "source": [
    "#### as usual \"graph\" doesn't work\n",
    "import plotly\n",
    "from plotly.graph_objs import Scatter, Layout\n",
    "from plotly.offline import init_notebook_mode, iplot\n",
    "from IPython.display import display, HTML\n",
    "\n",
    "init_notebook_mode(connected=True)\n",
    "\n",
    "from graph import trace_values\n",
    "\n",
    "y_at_one_trace = trace_values(zero_to_ten, y_values_for_at_one(zero_to_ten), mode = 'line', name = 'f(x, y) at y=1') or {}\n",
    "\n",
    "y_at_three_trace = trace_values(zero_to_ten, y_values_for_at_three(zero_to_ten),  mode = 'line',  name = 'f(x, y) at y=3') or {}\n",
    "\n",
    "y_at_six_trace = trace_values(zero_to_ten, y_values_for_at_six(zero_to_ten),  mode = 'line', name = 'f(x, y) at y=6') or {}\n",
    "\n",
    "y_at_nine_trace = trace_values(zero_to_ten, y_values_for_at_nine(zero_to_ten),  mode = 'line', name = 'f(x, y) at y=9') or {}\n",
    "\n",
    "\n",
    "\n",
    "fig_constants_lin_functions = {\n",
    "    \"data\": [y_at_one_trace, y_at_three_trace, y_at_six_trace, y_at_nine_trace],\n",
    "    \"layout\": Layout(title=\"constants with linear functions\")\n",
    "}\n",
    "plotly.offline.iplot(fig_constants_lin_functions)\n",
    "\n"
   ]
  },
  {
   "cell_type": "code",
   "execution_count": 30,
   "metadata": {},
   "outputs": [],
   "source": [
    "#partial derivative of x, y is constant and vice versa. y(f,x) = 3xy\n",
    "#fx = 3x, fy = y, f`x = 3, f` = 1\n",
    "def df_dx_when_y_equals_one():\n",
    "    df_dx_one= 3 * 1\n",
    "    return df_dx_one\n",
    "\n",
    "def df_dx_when_y_equals_three():\n",
    "    df_dx_three= 3 * 3\n",
    "    return df_dx_three\n",
    "\n",
    "def df_dx_when_y_equals_six():\n",
    "    df_dx_six= 3 * 6\n",
    "    return df_dx_six\n",
    "\n",
    "def df_dx_when_y_equals_nine():\n",
    "    df_dx_nine = 3 * 9\n",
    "    return df_dx_nine"
   ]
  },
  {
   "cell_type": "code",
   "execution_count": 31,
   "metadata": {},
   "outputs": [
    {
     "data": {
      "text/plain": [
       "9"
      ]
     },
     "execution_count": 31,
     "metadata": {},
     "output_type": "execute_result"
    }
   ],
   "source": [
    "df_dx_when_y_equals_three()"
   ]
  },
  {
   "cell_type": "code",
   "execution_count": 37,
   "metadata": {},
   "outputs": [],
   "source": [
    "def df_dx_3xy(x_value, y_value):\n",
    "    term = (3,1,1)\n",
    "    partial_x_derive = term[0] * x_value**(term[1]-1) * y_value\n",
    "    return partial_x_derive"
   ]
  },
  {
   "cell_type": "code",
   "execution_count": 49,
   "metadata": {},
   "outputs": [],
   "source": [
    "# multivariable_output_at that takes in a multivariable function and returns the value  f(x,y)  \n",
    "# evaluated at a specific value of x and y for the function\n",
    "four_x_squared_y_plus_three_x_plus_y = [(4, 2, 1), (3, 1, 0), (1, 0, 1)]\n",
    "two_x_cubed_y_plus_three_y_x_plus_x = [(2, 3, 1), (3, 1, 1), (1, 1, 0)]\n",
    "\n",
    "def multivariable_output_at(list_of_terms, x_value, y_value):\n",
    "    y_terms = []\n",
    "    x_terms = []\n",
    "    multi_variable_terms = []\n",
    "    for term in list_of_terms:\n",
    "        if term[1] == 0:\n",
    "            y_terms.append((term[0]*y_value**term[2]))\n",
    "        elif term[2] == 0:\n",
    "            x_terms.append((term[0]*x_value**term[1]))\n",
    "        else:\n",
    "            multi_variable_terms.append((term[0])* (x_value**term[1]) * (y_value**term[2]))\n",
    "    \n",
    "                                        \n",
    "    output_at = (sum(y_terms) + sum(x_terms) + sum(multi_variable_terms))\n",
    "    return output_at\n"
   ]
  },
  {
   "cell_type": "code",
   "execution_count": 51,
   "metadata": {},
   "outputs": [
    {
     "data": {
      "text/plain": [
       "6"
      ]
     },
     "execution_count": 51,
     "metadata": {},
     "output_type": "execute_result"
    }
   ],
   "source": [
    "multivariable_output_at(two_x_cubed_y_plus_three_y_x_plus_x, 1, 1)"
   ]
  },
  {
   "cell_type": "code",
   "execution_count": 52,
   "metadata": {},
   "outputs": [],
   "source": [
    "# partial to x - y constant\n",
    "four_x_squared_y = (4, 2, 1)\n",
    "y = (1, 0, 1)\n",
    "def term_df_dx(term):\n",
    "    term_df_x = (term[0]*term[1], term[1]-1, term[2])\n",
    "    return term_df_x"
   ]
  },
  {
   "cell_type": "code",
   "execution_count": 57,
   "metadata": {},
   "outputs": [
    {
     "data": {
      "text/plain": [
       "[(8, 1, 1), (3, 0, 0)]"
      ]
     },
     "execution_count": 57,
     "metadata": {},
     "output_type": "execute_result"
    }
   ],
   "source": [
    "#derivative of x - y constant. used to calculate using term_df_dx function and filtered out the results by ommiting all the tuples\n",
    "#that their first number is 0 (x did not exist)\n",
    "def df_dx(list_of_terms):\n",
    "    partial_x_derive = list(map(term_df_dx, list_of_terms))\n",
    "    filtered_x_derive = list(filter(lambda df_dx: df_dx[0] != 0, partial_x_derive))\n",
    "    return filtered_x_derive\n"
   ]
  },
  {
   "cell_type": "code",
   "execution_count": 63,
   "metadata": {},
   "outputs": [
    {
     "data": {
      "text/plain": [
       "(4, 2, 0)"
      ]
     },
     "execution_count": 63,
     "metadata": {},
     "output_type": "execute_result"
    }
   ],
   "source": [
    "#opposite of term_df_dy - x constant\n",
    "def term_df_dy(term):\n",
    "    term_df_y = (term[0], term[1], term[2]-1)\n",
    "    return term_df_y\n",
    "\n",
    "four_x_squared_y = (4, 2, 1)\n",
    "term_df_dy(four_x_squared_y)\n"
   ]
  },
  {
   "cell_type": "code",
   "execution_count": 77,
   "metadata": {},
   "outputs": [
    {
     "data": {
      "text/plain": [
       "[(2, 3, 0), (3, 1, 0)]"
      ]
     },
     "execution_count": 77,
     "metadata": {},
     "output_type": "execute_result"
    }
   ],
   "source": [
    "#opposite of term_df_dx function. filtered out the results by ommiting all the tuples\n",
    "#that 'y' did not exist\n",
    "def df_dy(list_of_terms):\n",
    "    partial_y_derive = list(map(term_df_dy, list_of_terms))\n",
    "    filtered_y_derive = list(filter(lambda df_dy: df_dy[2] > -1 , partial_y_derive))\n",
    "    return filtered_y_derive\n",
    "\n",
    "two_x_cubed_y_plus_three_y_x_plus_x = [(2, 3, 1), (3, 1, 1), (1, 1, 0)]\n",
    "four_x_squared_y_plus_three_x_plus_y = [(4, 2, 1), (3, 1, 0), (1, 0, 1)]\n",
    "df_dy(two_x_cubed_y_plus_three_y_x_plus_x)"
   ]
  },
  {
   "cell_type": "code",
   "execution_count": null,
   "metadata": {},
   "outputs": [],
   "source": []
  }
 ],
 "metadata": {
  "kernelspec": {
   "display_name": "Python 3",
   "language": "python",
   "name": "python3"
  },
  "language_info": {
   "codemirror_mode": {
    "name": "ipython",
    "version": 3
   },
   "file_extension": ".py",
   "mimetype": "text/x-python",
   "name": "python",
   "nbconvert_exporter": "python",
   "pygments_lexer": "ipython3",
   "version": "3.7.1"
  }
 },
 "nbformat": 4,
 "nbformat_minor": 2
}
