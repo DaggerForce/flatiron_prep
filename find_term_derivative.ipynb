{
 "cells": [
  {
   "cell_type": "code",
   "execution_count": 12,
   "metadata": {},
   "outputs": [],
   "source": [
    "one_x_cubed = (1, 3)\n",
    "four_x_cubed_minus_three_x = [(4, 3), (-3, 1)]\n",
    "three_x_squared_minus_eleven = [(3, 2), (-11, 0)]"
   ]
  },
  {
   "cell_type": "code",
   "execution_count": 4,
   "metadata": {},
   "outputs": [],
   "source": [
    "def find_term_derivative(term):\n",
    "    derive_term = (term[0]*term[1], (term[1]-1)) #create a new tuple for derive using the power rules\n",
    "    return derive_term"
   ]
  },
  {
   "cell_type": "code",
   "execution_count": 74,
   "metadata": {},
   "outputs": [],
   "source": [
    "def find_derivative(function_terms):\n",
    "    derivative = []\n",
    "    for every_term in function_terms:\n",
    "        derivative.append(find_term_derivative(every_term)) \n",
    "        #cycle through every term in the list of terms the user provided and applying \"find term derivative\"\n",
    "    \n",
    "    filtered_derivative = list(filter(lambda x: x[1] != -1, derivative))\n",
    "    return filtered_derivative"
   ]
  },
  {
   "cell_type": "code",
   "execution_count": 142,
   "metadata": {},
   "outputs": [],
   "source": [
    "def output_at(list_of_terms, x_values):\n",
    "    if type(x_values) == list:\n",
    "        results = []\n",
    "        x_list_map = list(range(len(x_values)))\n",
    "        for every_x in x_list_map:\n",
    "            results.append((list_of_terms[0][0]) * x_values[every_x])\n",
    "    elif type(x_values) == int or type(x_values) == float:\n",
    "        result = ((list_of_terms[0][0]) * x_values)\n",
    "        return result\n",
    "\n",
    "        return results"
   ]
  },
  {
   "cell_type": "code",
   "execution_count": 143,
   "metadata": {},
   "outputs": [],
   "source": [
    "def derivative_at(terms, x):\n",
    "    derivative = find_derivative(terms) # get the derivative\n",
    "    derivative_at_x = output_at(derivative, x)\n",
    "    \n",
    "    return derivative_at_x\n"
   ]
  },
  {
   "cell_type": "code",
   "execution_count": 146,
   "metadata": {},
   "outputs": [
    {
     "name": "stdout",
     "output_type": "stream",
     "text": [
      "[(6, 1)]\n",
      "12\n"
     ]
    }
   ],
   "source": [
    "print(find_derivative(three_x_squared_minus_eleven))\n",
    "print(derivative_at(three_x_squared_minus_eleven, 2))"
   ]
  },
  {
   "cell_type": "code",
   "execution_count": null,
   "metadata": {},
   "outputs": [],
   "source": []
  },
  {
   "cell_type": "code",
   "execution_count": null,
   "metadata": {},
   "outputs": [],
   "source": []
  }
 ],
 "metadata": {
  "kernelspec": {
   "display_name": "Python 3",
   "language": "python",
   "name": "python3"
  },
  "language_info": {
   "codemirror_mode": {
    "name": "ipython",
    "version": 3
   },
   "file_extension": ".py",
   "mimetype": "text/x-python",
   "name": "python",
   "nbconvert_exporter": "python",
   "pygments_lexer": "ipython3",
   "version": "3.7.1"
  }
 },
 "nbformat": 4,
 "nbformat_minor": 2
}
